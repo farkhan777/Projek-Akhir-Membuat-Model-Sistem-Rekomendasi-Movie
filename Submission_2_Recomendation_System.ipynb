{
  "nbformat": 4,
  "nbformat_minor": 0,
  "metadata": {
    "colab": {
      "name": "Submission_2_Recomendation System.ipynb",
      "provenance": []
    },
    "kernelspec": {
      "name": "python3",
      "display_name": "Python 3"
    },
    "language_info": {
      "name": "python"
    },
    "accelerator": "GPU"
  },
  "cells": [
    {
      "cell_type": "markdown",
      "metadata": {
        "id": "DhSAI9qKeO0n"
      },
      "source": [
        "# **Movie Recommendation System**"
      ]
    },
    {
      "cell_type": "markdown",
      "metadata": {
        "id": "g4jxcDQhegQ0"
      },
      "source": [
        "# **Business Understanding**\n",
        "## **Problem Statements**\n",
        "* Bagaimana cara meningkatakan user experience saat mencari film yang ingin ditonton ?\n",
        "* Bagaimana cara membuat sistem rekomendasi film menggunakan metode collaborative filtering ?"
      ]
    },
    {
      "cell_type": "markdown",
      "metadata": {
        "id": "F2ZWYveHepva"
      },
      "source": [
        "## **Goals**\n",
        "Meningkatakan user experience saat mencari film yang ingin ditonton."
      ]
    },
    {
      "cell_type": "markdown",
      "metadata": {
        "id": "zzucG_h_fIHc"
      },
      "source": [
        "## **Solution statements**\n",
        "Dataset yang saya gunakan hanya berisi tentang rating atau hasil penilaian pengguna dan genre film, maka solusi yang sangat tepat untuk masalah ini adalah dengan menggunakan collaborative filtering.\n",
        "[Collaborative Filtering](https://medium.com/@ranggaantok/bagaimana-sistem-rekomendasi-berkerja-e749dac64816): collaborative filtering adalah suatu konsep dimana opini dari pengguna lain yang ada digunakan untuk memprediksi item yang mungkin disukai/diminati oleh seorang pengguna.\n",
        "Pada collaborative filtering attribut yang digunakan bukan konten tetapi user behaviour. contohnya kita merekomendasikan suatu item berdasarkan dari riwayat rating dari user tersebut maupun user lain.\n",
        "\n",
        "![image](https://miro.medium.com/max/335/1*O6ON-kQ34pMCYOHSr7ZebQ.png)"
      ]
    },
    {
      "cell_type": "markdown",
      "metadata": {
        "id": "ZxgVKsbw2717"
      },
      "source": [
        "# **Instalasi Kaggle**"
      ]
    },
    {
      "cell_type": "markdown",
      "metadata": {
        "id": "-lDsxGd62-4Q"
      },
      "source": [
        "Import kaggle untuk mengambil data"
      ]
    },
    {
      "cell_type": "code",
      "metadata": {
        "id": "zgL6XBB5rQq1"
      },
      "source": [
        "!pip install -q kaggle"
      ],
      "execution_count": 1,
      "outputs": []
    },
    {
      "cell_type": "markdown",
      "metadata": {
        "id": "jCX8Qusr3CKK"
      },
      "source": [
        "Masukkan file .json yang berisikan username dan key"
      ]
    },
    {
      "cell_type": "code",
      "metadata": {
        "colab": {
          "resources": {
            "http://localhost:8080/nbextensions/google.colab/files.js": {
              "data": "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",
              "ok": true,
              "headers": [
                [
                  "content-type",
                  "application/javascript"
                ]
              ],
              "status": 200,
              "status_text": ""
            }
          },
          "base_uri": "https://localhost:8080/",
          "height": 89
        },
        "id": "csqaRx0ZrgmD",
        "outputId": "214db873-1e3d-4b9f-9430-61a6e522c11c"
      },
      "source": [
        "from google.colab import files\n",
        "\n",
        "files.upload()"
      ],
      "execution_count": 2,
      "outputs": [
        {
          "output_type": "display_data",
          "data": {
            "text/html": [
              "\n",
              "     <input type=\"file\" id=\"files-a1de583a-fe24-4574-b3c1-49f7108961c3\" name=\"files[]\" multiple disabled\n",
              "        style=\"border:none\" />\n",
              "     <output id=\"result-a1de583a-fe24-4574-b3c1-49f7108961c3\">\n",
              "      Upload widget is only available when the cell has been executed in the\n",
              "      current browser session. Please rerun this cell to enable.\n",
              "      </output>\n",
              "      <script src=\"/nbextensions/google.colab/files.js\"></script> "
            ],
            "text/plain": [
              "<IPython.core.display.HTML object>"
            ]
          },
          "metadata": {}
        },
        {
          "output_type": "stream",
          "name": "stdout",
          "text": [
            "Saving kaggle.json to kaggle.json\n"
          ]
        },
        {
          "output_type": "execute_result",
          "data": {
            "text/plain": [
              "{'kaggle.json': b'{\"username\":\"farhanhamzah\",\"key\":\"eb51f66ce1088b24ad1d5a4dab424e33\"}'}"
            ]
          },
          "metadata": {},
          "execution_count": 2
        }
      ]
    },
    {
      "cell_type": "code",
      "metadata": {
        "id": "BPAV_kNgri8i"
      },
      "source": [
        "! mkdir ~/.kaggle\n",
        "\n",
        "! cp kaggle.json ~/.kaggle/"
      ],
      "execution_count": 3,
      "outputs": []
    },
    {
      "cell_type": "code",
      "metadata": {
        "id": "s3fH87VNrkWK"
      },
      "source": [
        "! chmod 600 ~/.kaggle/kaggle.json"
      ],
      "execution_count": 4,
      "outputs": []
    },
    {
      "cell_type": "markdown",
      "metadata": {
        "id": "zo--UPCK3HIQ"
      },
      "source": [
        "Megunduh dataset dari platform kaggle.com"
      ]
    },
    {
      "cell_type": "code",
      "metadata": {
        "colab": {
          "base_uri": "https://localhost:8080/"
        },
        "id": "a1Egbr0hrlmK",
        "outputId": "d54bd1be-93de-400a-a39d-9081633fb065"
      },
      "source": [
        "!kaggle datasets download -d aigamer/movie-lens-dataset"
      ],
      "execution_count": 5,
      "outputs": [
        {
          "output_type": "stream",
          "name": "stdout",
          "text": [
            "Downloading movie-lens-dataset.zip to /content\n",
            "\r  0% 0.00/967k [00:00<?, ?B/s]\n",
            "\r100% 967k/967k [00:00<00:00, 66.0MB/s]\n"
          ]
        }
      ]
    },
    {
      "cell_type": "markdown",
      "metadata": {
        "id": "UgAM7nJW3Jbm"
      },
      "source": [
        "# **Import Library**"
      ]
    },
    {
      "cell_type": "code",
      "metadata": {
        "id": "zFT2SbBmrl9n"
      },
      "source": [
        "import os\n",
        "import zipfile\n",
        "import numpy as np\n",
        "import pandas as pd\n",
        "import nltk\n",
        "import keras\n",
        "import tensorflow as tf\n",
        "import seaborn as sns\n",
        "from keras import layers\n",
        "import matplotlib.pyplot as plt\n",
        "from sklearn.preprocessing import MultiLabelBinarizer\n",
        "from sklearn.feature_extraction.text import TfidfVectorizer\n",
        "from collections import defaultdict\n",
        "from keras.models import Model\n",
        "from tensorflow.keras.optimizers import Adam\n",
        "from keras.layers import Add, Activation, Lambda, BatchNormalization, Concatenate, Dropout, Input, Embedding, Dot, Reshape, Dense, Flatten\n",
        "import matplotlib.pyplot as plt\n",
        "from tensorflow.keras.callbacks import Callback, ModelCheckpoint, LearningRateScheduler, TensorBoard, EarlyStopping, ReduceLROnPlateau"
      ],
      "execution_count": 6,
      "outputs": []
    },
    {
      "cell_type": "markdown",
      "metadata": {
        "id": "fKuibztP3TDY"
      },
      "source": [
        "# **Data Understanding**"
      ]
    },
    {
      "cell_type": "markdown",
      "metadata": {
        "id": "jAq3pmGa3VSZ"
      },
      "source": [
        "Ekstraksi data"
      ]
    },
    {
      "cell_type": "code",
      "metadata": {
        "id": "3riJuPmxsTQK"
      },
      "source": [
        "local_zip = '/content/movie-lens-dataset.zip'\n",
        "zip_ref = zipfile.ZipFile(local_zip, 'r')\n",
        "zip_ref.extractall('/content')\n",
        "zip_ref.close()"
      ],
      "execution_count": 7,
      "outputs": []
    },
    {
      "cell_type": "markdown",
      "metadata": {
        "id": "a1WYrTMT3X23"
      },
      "source": [
        "Membuat dataframe"
      ]
    },
    {
      "cell_type": "code",
      "metadata": {
        "id": "kcW3Tpo6sape"
      },
      "source": [
        "movie_df = pd.read_csv('/content/movies.csv')\n",
        "rating_df = pd.read_csv('/content/ratings.csv')\n",
        "tags_df = pd.read_csv('/content/tags.csv')"
      ],
      "execution_count": 8,
      "outputs": []
    },
    {
      "cell_type": "markdown",
      "metadata": {
        "id": "FrigapJn3vlo"
      },
      "source": [
        "Informasi Data"
      ]
    },
    {
      "cell_type": "code",
      "metadata": {
        "colab": {
          "base_uri": "https://localhost:8080/",
          "height": 419
        },
        "id": "e_SOzr92N2W1",
        "outputId": "24576c2a-43cb-4bf3-9401-85b7ac6432c6"
      },
      "source": [
        "movie_df"
      ],
      "execution_count": 9,
      "outputs": [
        {
          "output_type": "execute_result",
          "data": {
            "text/html": [
              "<div>\n",
              "<style scoped>\n",
              "    .dataframe tbody tr th:only-of-type {\n",
              "        vertical-align: middle;\n",
              "    }\n",
              "\n",
              "    .dataframe tbody tr th {\n",
              "        vertical-align: top;\n",
              "    }\n",
              "\n",
              "    .dataframe thead th {\n",
              "        text-align: right;\n",
              "    }\n",
              "</style>\n",
              "<table border=\"1\" class=\"dataframe\">\n",
              "  <thead>\n",
              "    <tr style=\"text-align: right;\">\n",
              "      <th></th>\n",
              "      <th>movieId</th>\n",
              "      <th>title</th>\n",
              "      <th>genres</th>\n",
              "    </tr>\n",
              "  </thead>\n",
              "  <tbody>\n",
              "    <tr>\n",
              "      <th>0</th>\n",
              "      <td>1</td>\n",
              "      <td>Toy Story (1995)</td>\n",
              "      <td>Adventure|Animation|Children|Comedy|Fantasy</td>\n",
              "    </tr>\n",
              "    <tr>\n",
              "      <th>1</th>\n",
              "      <td>2</td>\n",
              "      <td>Jumanji (1995)</td>\n",
              "      <td>Adventure|Children|Fantasy</td>\n",
              "    </tr>\n",
              "    <tr>\n",
              "      <th>2</th>\n",
              "      <td>3</td>\n",
              "      <td>Grumpier Old Men (1995)</td>\n",
              "      <td>Comedy|Romance</td>\n",
              "    </tr>\n",
              "    <tr>\n",
              "      <th>3</th>\n",
              "      <td>4</td>\n",
              "      <td>Waiting to Exhale (1995)</td>\n",
              "      <td>Comedy|Drama|Romance</td>\n",
              "    </tr>\n",
              "    <tr>\n",
              "      <th>4</th>\n",
              "      <td>5</td>\n",
              "      <td>Father of the Bride Part II (1995)</td>\n",
              "      <td>Comedy</td>\n",
              "    </tr>\n",
              "    <tr>\n",
              "      <th>...</th>\n",
              "      <td>...</td>\n",
              "      <td>...</td>\n",
              "      <td>...</td>\n",
              "    </tr>\n",
              "    <tr>\n",
              "      <th>9737</th>\n",
              "      <td>193581</td>\n",
              "      <td>Black Butler: Book of the Atlantic (2017)</td>\n",
              "      <td>Action|Animation|Comedy|Fantasy</td>\n",
              "    </tr>\n",
              "    <tr>\n",
              "      <th>9738</th>\n",
              "      <td>193583</td>\n",
              "      <td>No Game No Life: Zero (2017)</td>\n",
              "      <td>Animation|Comedy|Fantasy</td>\n",
              "    </tr>\n",
              "    <tr>\n",
              "      <th>9739</th>\n",
              "      <td>193585</td>\n",
              "      <td>Flint (2017)</td>\n",
              "      <td>Drama</td>\n",
              "    </tr>\n",
              "    <tr>\n",
              "      <th>9740</th>\n",
              "      <td>193587</td>\n",
              "      <td>Bungo Stray Dogs: Dead Apple (2018)</td>\n",
              "      <td>Action|Animation</td>\n",
              "    </tr>\n",
              "    <tr>\n",
              "      <th>9741</th>\n",
              "      <td>193609</td>\n",
              "      <td>Andrew Dice Clay: Dice Rules (1991)</td>\n",
              "      <td>Comedy</td>\n",
              "    </tr>\n",
              "  </tbody>\n",
              "</table>\n",
              "<p>9742 rows × 3 columns</p>\n",
              "</div>"
            ],
            "text/plain": [
              "      movieId  ...                                       genres\n",
              "0           1  ...  Adventure|Animation|Children|Comedy|Fantasy\n",
              "1           2  ...                   Adventure|Children|Fantasy\n",
              "2           3  ...                               Comedy|Romance\n",
              "3           4  ...                         Comedy|Drama|Romance\n",
              "4           5  ...                                       Comedy\n",
              "...       ...  ...                                          ...\n",
              "9737   193581  ...              Action|Animation|Comedy|Fantasy\n",
              "9738   193583  ...                     Animation|Comedy|Fantasy\n",
              "9739   193585  ...                                        Drama\n",
              "9740   193587  ...                             Action|Animation\n",
              "9741   193609  ...                                       Comedy\n",
              "\n",
              "[9742 rows x 3 columns]"
            ]
          },
          "metadata": {},
          "execution_count": 9
        }
      ]
    },
    {
      "cell_type": "code",
      "metadata": {
        "colab": {
          "base_uri": "https://localhost:8080/"
        },
        "id": "Cys-wjuuTzF0",
        "outputId": "2dad9fd5-2ec1-498a-f97d-5d03fd9e83a8"
      },
      "source": [
        "movie_df.info()"
      ],
      "execution_count": 10,
      "outputs": [
        {
          "output_type": "stream",
          "name": "stdout",
          "text": [
            "<class 'pandas.core.frame.DataFrame'>\n",
            "RangeIndex: 9742 entries, 0 to 9741\n",
            "Data columns (total 3 columns):\n",
            " #   Column   Non-Null Count  Dtype \n",
            "---  ------   --------------  ----- \n",
            " 0   movieId  9742 non-null   int64 \n",
            " 1   title    9742 non-null   object\n",
            " 2   genres   9742 non-null   object\n",
            "dtypes: int64(1), object(2)\n",
            "memory usage: 228.5+ KB\n"
          ]
        }
      ]
    },
    {
      "cell_type": "code",
      "metadata": {
        "colab": {
          "base_uri": "https://localhost:8080/"
        },
        "id": "lUOsCLbkxvem",
        "outputId": "69c8ceba-433d-46c1-a7ff-ef3417d987d9"
      },
      "source": [
        "movie_df.isnull().sum()"
      ],
      "execution_count": 11,
      "outputs": [
        {
          "output_type": "execute_result",
          "data": {
            "text/plain": [
              "movieId    0\n",
              "title      0\n",
              "genres     0\n",
              "dtype: int64"
            ]
          },
          "metadata": {},
          "execution_count": 11
        }
      ]
    },
    {
      "cell_type": "code",
      "metadata": {
        "colab": {
          "base_uri": "https://localhost:8080/",
          "height": 419
        },
        "id": "z0fmHnIxf9rI",
        "outputId": "146b3ede-bb6a-4562-b153-e0507e0a88ee"
      },
      "source": [
        "rating_df = rating_df.drop(['timestamp'],axis=1)\n",
        "rating_df"
      ],
      "execution_count": 12,
      "outputs": [
        {
          "output_type": "execute_result",
          "data": {
            "text/html": [
              "<div>\n",
              "<style scoped>\n",
              "    .dataframe tbody tr th:only-of-type {\n",
              "        vertical-align: middle;\n",
              "    }\n",
              "\n",
              "    .dataframe tbody tr th {\n",
              "        vertical-align: top;\n",
              "    }\n",
              "\n",
              "    .dataframe thead th {\n",
              "        text-align: right;\n",
              "    }\n",
              "</style>\n",
              "<table border=\"1\" class=\"dataframe\">\n",
              "  <thead>\n",
              "    <tr style=\"text-align: right;\">\n",
              "      <th></th>\n",
              "      <th>userId</th>\n",
              "      <th>movieId</th>\n",
              "      <th>rating</th>\n",
              "    </tr>\n",
              "  </thead>\n",
              "  <tbody>\n",
              "    <tr>\n",
              "      <th>0</th>\n",
              "      <td>1</td>\n",
              "      <td>1</td>\n",
              "      <td>4.0</td>\n",
              "    </tr>\n",
              "    <tr>\n",
              "      <th>1</th>\n",
              "      <td>1</td>\n",
              "      <td>3</td>\n",
              "      <td>4.0</td>\n",
              "    </tr>\n",
              "    <tr>\n",
              "      <th>2</th>\n",
              "      <td>1</td>\n",
              "      <td>6</td>\n",
              "      <td>4.0</td>\n",
              "    </tr>\n",
              "    <tr>\n",
              "      <th>3</th>\n",
              "      <td>1</td>\n",
              "      <td>47</td>\n",
              "      <td>5.0</td>\n",
              "    </tr>\n",
              "    <tr>\n",
              "      <th>4</th>\n",
              "      <td>1</td>\n",
              "      <td>50</td>\n",
              "      <td>5.0</td>\n",
              "    </tr>\n",
              "    <tr>\n",
              "      <th>...</th>\n",
              "      <td>...</td>\n",
              "      <td>...</td>\n",
              "      <td>...</td>\n",
              "    </tr>\n",
              "    <tr>\n",
              "      <th>100831</th>\n",
              "      <td>610</td>\n",
              "      <td>166534</td>\n",
              "      <td>4.0</td>\n",
              "    </tr>\n",
              "    <tr>\n",
              "      <th>100832</th>\n",
              "      <td>610</td>\n",
              "      <td>168248</td>\n",
              "      <td>5.0</td>\n",
              "    </tr>\n",
              "    <tr>\n",
              "      <th>100833</th>\n",
              "      <td>610</td>\n",
              "      <td>168250</td>\n",
              "      <td>5.0</td>\n",
              "    </tr>\n",
              "    <tr>\n",
              "      <th>100834</th>\n",
              "      <td>610</td>\n",
              "      <td>168252</td>\n",
              "      <td>5.0</td>\n",
              "    </tr>\n",
              "    <tr>\n",
              "      <th>100835</th>\n",
              "      <td>610</td>\n",
              "      <td>170875</td>\n",
              "      <td>3.0</td>\n",
              "    </tr>\n",
              "  </tbody>\n",
              "</table>\n",
              "<p>100836 rows × 3 columns</p>\n",
              "</div>"
            ],
            "text/plain": [
              "        userId  movieId  rating\n",
              "0            1        1     4.0\n",
              "1            1        3     4.0\n",
              "2            1        6     4.0\n",
              "3            1       47     5.0\n",
              "4            1       50     5.0\n",
              "...        ...      ...     ...\n",
              "100831     610   166534     4.0\n",
              "100832     610   168248     5.0\n",
              "100833     610   168250     5.0\n",
              "100834     610   168252     5.0\n",
              "100835     610   170875     3.0\n",
              "\n",
              "[100836 rows x 3 columns]"
            ]
          },
          "metadata": {},
          "execution_count": 12
        }
      ]
    },
    {
      "cell_type": "code",
      "metadata": {
        "colab": {
          "base_uri": "https://localhost:8080/"
        },
        "id": "Lry7KM27T4Xl",
        "outputId": "5c043a39-96b8-46f3-efef-6f636cf7ae01"
      },
      "source": [
        "rating_df.info()"
      ],
      "execution_count": 13,
      "outputs": [
        {
          "output_type": "stream",
          "name": "stdout",
          "text": [
            "<class 'pandas.core.frame.DataFrame'>\n",
            "RangeIndex: 100836 entries, 0 to 100835\n",
            "Data columns (total 3 columns):\n",
            " #   Column   Non-Null Count   Dtype  \n",
            "---  ------   --------------   -----  \n",
            " 0   userId   100836 non-null  int64  \n",
            " 1   movieId  100836 non-null  int64  \n",
            " 2   rating   100836 non-null  float64\n",
            "dtypes: float64(1), int64(2)\n",
            "memory usage: 2.3 MB\n"
          ]
        }
      ]
    },
    {
      "cell_type": "code",
      "metadata": {
        "colab": {
          "base_uri": "https://localhost:8080/"
        },
        "id": "EWbLqCnlyoSR",
        "outputId": "56d755d4-cf3d-4aee-a27a-7b5883f68263"
      },
      "source": [
        "rating_df.isnull().sum()"
      ],
      "execution_count": 14,
      "outputs": [
        {
          "output_type": "execute_result",
          "data": {
            "text/plain": [
              "userId     0\n",
              "movieId    0\n",
              "rating     0\n",
              "dtype: int64"
            ]
          },
          "metadata": {},
          "execution_count": 14
        }
      ]
    },
    {
      "cell_type": "code",
      "metadata": {
        "colab": {
          "base_uri": "https://localhost:8080/",
          "height": 419
        },
        "id": "YF-7F9YagCBX",
        "outputId": "90e68dde-5c51-4b31-f7a3-418244646504"
      },
      "source": [
        "tags_df"
      ],
      "execution_count": 15,
      "outputs": [
        {
          "output_type": "execute_result",
          "data": {
            "text/html": [
              "<div>\n",
              "<style scoped>\n",
              "    .dataframe tbody tr th:only-of-type {\n",
              "        vertical-align: middle;\n",
              "    }\n",
              "\n",
              "    .dataframe tbody tr th {\n",
              "        vertical-align: top;\n",
              "    }\n",
              "\n",
              "    .dataframe thead th {\n",
              "        text-align: right;\n",
              "    }\n",
              "</style>\n",
              "<table border=\"1\" class=\"dataframe\">\n",
              "  <thead>\n",
              "    <tr style=\"text-align: right;\">\n",
              "      <th></th>\n",
              "      <th>userId</th>\n",
              "      <th>movieId</th>\n",
              "      <th>tag</th>\n",
              "      <th>timestamp</th>\n",
              "    </tr>\n",
              "  </thead>\n",
              "  <tbody>\n",
              "    <tr>\n",
              "      <th>0</th>\n",
              "      <td>2</td>\n",
              "      <td>60756</td>\n",
              "      <td>funny</td>\n",
              "      <td>1445714994</td>\n",
              "    </tr>\n",
              "    <tr>\n",
              "      <th>1</th>\n",
              "      <td>2</td>\n",
              "      <td>60756</td>\n",
              "      <td>Highly quotable</td>\n",
              "      <td>1445714996</td>\n",
              "    </tr>\n",
              "    <tr>\n",
              "      <th>2</th>\n",
              "      <td>2</td>\n",
              "      <td>60756</td>\n",
              "      <td>will ferrell</td>\n",
              "      <td>1445714992</td>\n",
              "    </tr>\n",
              "    <tr>\n",
              "      <th>3</th>\n",
              "      <td>2</td>\n",
              "      <td>89774</td>\n",
              "      <td>Boxing story</td>\n",
              "      <td>1445715207</td>\n",
              "    </tr>\n",
              "    <tr>\n",
              "      <th>4</th>\n",
              "      <td>2</td>\n",
              "      <td>89774</td>\n",
              "      <td>MMA</td>\n",
              "      <td>1445715200</td>\n",
              "    </tr>\n",
              "    <tr>\n",
              "      <th>...</th>\n",
              "      <td>...</td>\n",
              "      <td>...</td>\n",
              "      <td>...</td>\n",
              "      <td>...</td>\n",
              "    </tr>\n",
              "    <tr>\n",
              "      <th>3678</th>\n",
              "      <td>606</td>\n",
              "      <td>7382</td>\n",
              "      <td>for katie</td>\n",
              "      <td>1171234019</td>\n",
              "    </tr>\n",
              "    <tr>\n",
              "      <th>3679</th>\n",
              "      <td>606</td>\n",
              "      <td>7936</td>\n",
              "      <td>austere</td>\n",
              "      <td>1173392334</td>\n",
              "    </tr>\n",
              "    <tr>\n",
              "      <th>3680</th>\n",
              "      <td>610</td>\n",
              "      <td>3265</td>\n",
              "      <td>gun fu</td>\n",
              "      <td>1493843984</td>\n",
              "    </tr>\n",
              "    <tr>\n",
              "      <th>3681</th>\n",
              "      <td>610</td>\n",
              "      <td>3265</td>\n",
              "      <td>heroic bloodshed</td>\n",
              "      <td>1493843978</td>\n",
              "    </tr>\n",
              "    <tr>\n",
              "      <th>3682</th>\n",
              "      <td>610</td>\n",
              "      <td>168248</td>\n",
              "      <td>Heroic Bloodshed</td>\n",
              "      <td>1493844270</td>\n",
              "    </tr>\n",
              "  </tbody>\n",
              "</table>\n",
              "<p>3683 rows × 4 columns</p>\n",
              "</div>"
            ],
            "text/plain": [
              "      userId  movieId               tag   timestamp\n",
              "0          2    60756             funny  1445714994\n",
              "1          2    60756   Highly quotable  1445714996\n",
              "2          2    60756      will ferrell  1445714992\n",
              "3          2    89774      Boxing story  1445715207\n",
              "4          2    89774               MMA  1445715200\n",
              "...      ...      ...               ...         ...\n",
              "3678     606     7382         for katie  1171234019\n",
              "3679     606     7936           austere  1173392334\n",
              "3680     610     3265            gun fu  1493843984\n",
              "3681     610     3265  heroic bloodshed  1493843978\n",
              "3682     610   168248  Heroic Bloodshed  1493844270\n",
              "\n",
              "[3683 rows x 4 columns]"
            ]
          },
          "metadata": {},
          "execution_count": 15
        }
      ]
    },
    {
      "cell_type": "code",
      "metadata": {
        "colab": {
          "base_uri": "https://localhost:8080/"
        },
        "id": "wE9kuMiDT6fa",
        "outputId": "4500a0ca-08bf-430c-ea4e-7ebfff37f7e1"
      },
      "source": [
        "tags_df.info()"
      ],
      "execution_count": 16,
      "outputs": [
        {
          "output_type": "stream",
          "name": "stdout",
          "text": [
            "<class 'pandas.core.frame.DataFrame'>\n",
            "RangeIndex: 3683 entries, 0 to 3682\n",
            "Data columns (total 4 columns):\n",
            " #   Column     Non-Null Count  Dtype \n",
            "---  ------     --------------  ----- \n",
            " 0   userId     3683 non-null   int64 \n",
            " 1   movieId    3683 non-null   int64 \n",
            " 2   tag        3683 non-null   object\n",
            " 3   timestamp  3683 non-null   int64 \n",
            "dtypes: int64(3), object(1)\n",
            "memory usage: 115.2+ KB\n"
          ]
        }
      ]
    },
    {
      "cell_type": "code",
      "metadata": {
        "colab": {
          "base_uri": "https://localhost:8080/"
        },
        "id": "c2Ill8tVyvYV",
        "outputId": "660760d0-78b4-43df-8350-33fafeae9a77"
      },
      "source": [
        "tags_df.isnull().sum()"
      ],
      "execution_count": 17,
      "outputs": [
        {
          "output_type": "execute_result",
          "data": {
            "text/plain": [
              "userId       0\n",
              "movieId      0\n",
              "tag          0\n",
              "timestamp    0\n",
              "dtype: int64"
            ]
          },
          "metadata": {},
          "execution_count": 17
        }
      ]
    },
    {
      "cell_type": "markdown",
      "metadata": {
        "id": "nEJNfn6-39IA"
      },
      "source": [
        "Menghapus missing value"
      ]
    },
    {
      "cell_type": "code",
      "metadata": {
        "id": "ScZW2demiW6_"
      },
      "source": [
        "movie_df = movie_df.dropna()\n",
        "rating_df = rating_df.dropna()\n",
        "tags_df = tags_df.dropna()"
      ],
      "execution_count": 18,
      "outputs": []
    },
    {
      "cell_type": "markdown",
      "metadata": {
        "id": "ajlf1vhC4BZG"
      },
      "source": [
        "Informasi Data"
      ]
    },
    {
      "cell_type": "code",
      "metadata": {
        "colab": {
          "base_uri": "https://localhost:8080/"
        },
        "id": "lYPtdm22il4R",
        "outputId": "75fa0ff9-1bce-4afd-9015-35844a4c6b37"
      },
      "source": [
        "rating_df.info()"
      ],
      "execution_count": 19,
      "outputs": [
        {
          "output_type": "stream",
          "name": "stdout",
          "text": [
            "<class 'pandas.core.frame.DataFrame'>\n",
            "Int64Index: 100836 entries, 0 to 100835\n",
            "Data columns (total 3 columns):\n",
            " #   Column   Non-Null Count   Dtype  \n",
            "---  ------   --------------   -----  \n",
            " 0   userId   100836 non-null  int64  \n",
            " 1   movieId  100836 non-null  int64  \n",
            " 2   rating   100836 non-null  float64\n",
            "dtypes: float64(1), int64(2)\n",
            "memory usage: 3.1 MB\n"
          ]
        }
      ]
    },
    {
      "cell_type": "markdown",
      "metadata": {
        "id": "yceRLa0t4IBn"
      },
      "source": [
        "Menggabungkan dataframe rating dan movie"
      ]
    },
    {
      "cell_type": "code",
      "metadata": {
        "colab": {
          "base_uri": "https://localhost:8080/",
          "height": 204
        },
        "id": "1jxFZjstgtBe",
        "outputId": "73d80d8d-9d35-4ac4-b1c0-65c3b72e1512"
      },
      "source": [
        "new_movie_df = rating_df.merge(movie_df,how='inner',on='movieId')\n",
        "new_movie_df.tail()"
      ],
      "execution_count": 20,
      "outputs": [
        {
          "output_type": "execute_result",
          "data": {
            "text/html": [
              "<div>\n",
              "<style scoped>\n",
              "    .dataframe tbody tr th:only-of-type {\n",
              "        vertical-align: middle;\n",
              "    }\n",
              "\n",
              "    .dataframe tbody tr th {\n",
              "        vertical-align: top;\n",
              "    }\n",
              "\n",
              "    .dataframe thead th {\n",
              "        text-align: right;\n",
              "    }\n",
              "</style>\n",
              "<table border=\"1\" class=\"dataframe\">\n",
              "  <thead>\n",
              "    <tr style=\"text-align: right;\">\n",
              "      <th></th>\n",
              "      <th>userId</th>\n",
              "      <th>movieId</th>\n",
              "      <th>rating</th>\n",
              "      <th>title</th>\n",
              "      <th>genres</th>\n",
              "    </tr>\n",
              "  </thead>\n",
              "  <tbody>\n",
              "    <tr>\n",
              "      <th>100831</th>\n",
              "      <td>610</td>\n",
              "      <td>160341</td>\n",
              "      <td>2.5</td>\n",
              "      <td>Bloodmoon (1997)</td>\n",
              "      <td>Action|Thriller</td>\n",
              "    </tr>\n",
              "    <tr>\n",
              "      <th>100832</th>\n",
              "      <td>610</td>\n",
              "      <td>160527</td>\n",
              "      <td>4.5</td>\n",
              "      <td>Sympathy for the Underdog (1971)</td>\n",
              "      <td>Action|Crime|Drama</td>\n",
              "    </tr>\n",
              "    <tr>\n",
              "      <th>100833</th>\n",
              "      <td>610</td>\n",
              "      <td>160836</td>\n",
              "      <td>3.0</td>\n",
              "      <td>Hazard (2005)</td>\n",
              "      <td>Action|Drama|Thriller</td>\n",
              "    </tr>\n",
              "    <tr>\n",
              "      <th>100834</th>\n",
              "      <td>610</td>\n",
              "      <td>163937</td>\n",
              "      <td>3.5</td>\n",
              "      <td>Blair Witch (2016)</td>\n",
              "      <td>Horror|Thriller</td>\n",
              "    </tr>\n",
              "    <tr>\n",
              "      <th>100835</th>\n",
              "      <td>610</td>\n",
              "      <td>163981</td>\n",
              "      <td>3.5</td>\n",
              "      <td>31 (2016)</td>\n",
              "      <td>Horror</td>\n",
              "    </tr>\n",
              "  </tbody>\n",
              "</table>\n",
              "</div>"
            ],
            "text/plain": [
              "        userId  ...                 genres\n",
              "100831     610  ...        Action|Thriller\n",
              "100832     610  ...     Action|Crime|Drama\n",
              "100833     610  ...  Action|Drama|Thriller\n",
              "100834     610  ...        Horror|Thriller\n",
              "100835     610  ...                 Horror\n",
              "\n",
              "[5 rows x 5 columns]"
            ]
          },
          "metadata": {},
          "execution_count": 20
        }
      ]
    },
    {
      "cell_type": "markdown",
      "metadata": {
        "id": "aPdbAnic4MTg"
      },
      "source": [
        "Normalisasi kolom rating"
      ]
    },
    {
      "cell_type": "code",
      "metadata": {
        "id": "uw7OXSSrrljN"
      },
      "source": [
        "minRating = min(rating_df['rating'])\n",
        "maxRating = max(rating_df['rating'])\n",
        "rating_df['rating'] = rating_df[\"rating\"].apply(lambda x: (x - minRating) / (maxRating - minRating)).values.astype(np.float32)\n",
        "AvgRating = np.mean(rating_df['rating'])"
      ],
      "execution_count": 21,
      "outputs": []
    },
    {
      "cell_type": "markdown",
      "metadata": {
        "id": "xqSZmBKR4OMa"
      },
      "source": [
        "Menampilkan rata-rata rating"
      ]
    },
    {
      "cell_type": "code",
      "metadata": {
        "colab": {
          "base_uri": "https://localhost:8080/"
        },
        "id": "m6GTb3bzUsfc",
        "outputId": "e8914223-f41e-43ec-e72b-65e5802770d6"
      },
      "source": [
        "print('Average Rating: ', AvgRating)"
      ],
      "execution_count": 22,
      "outputs": [
        {
          "output_type": "stream",
          "name": "stdout",
          "text": [
            "Average Rating:  0.6669186949729919\n"
          ]
        }
      ]
    },
    {
      "cell_type": "markdown",
      "metadata": {
        "id": "uXjiWJ6Yc0Cd"
      },
      "source": [
        "Memberikan id baru pada setiap baris di dataframe."
      ]
    },
    {
      "cell_type": "code",
      "metadata": {
        "id": "B_gR8WODporm"
      },
      "source": [
        "# Membuat unique value dari userId\n",
        "userIds = rating_df[\"userId\"].unique().tolist()\n",
        "# Membuat nilai sama dengan jumlah userID\n",
        "encodedUser = {x: i for i, x in enumerate(userIds)}\n",
        "encodeusertouser = {i: x for i, x in enumerate(userIds)}\n",
        "\n",
        "# Membuat kolom user yang nilainya dihasilkan berdasarkan peroses generate nilai userId.\n",
        "rating_df[\"user\"] = rating_df[\"userId\"].map(encodedUser)\n",
        "nUsers = len(encodedUser)\n",
        "\n",
        "# Membuat kolom user yang nilainya dihasilkan berdasarkan peroses generate nilai movieId.\n",
        "movieIds = rating_df[\"movieId\"].unique().tolist()\n",
        "firstMovieEncoder = {x: i for i, x in enumerate(movieIds)}\n",
        "movieEncoder = {i: x for i, x in enumerate(movieIds)}\n",
        "rating_df[\"movie\"] = rating_df[\"movieId\"].map(firstMovieEncoder)\n",
        "nMovie = len(firstMovieEncoder)"
      ],
      "execution_count": 23,
      "outputs": []
    },
    {
      "cell_type": "code",
      "metadata": {
        "colab": {
          "base_uri": "https://localhost:8080/",
          "height": 419
        },
        "id": "2_Mp8X2ckGHk",
        "outputId": "b5081bc5-0edf-4b2a-d56c-2364e5f947c0"
      },
      "source": [
        "rating_df"
      ],
      "execution_count": 24,
      "outputs": [
        {
          "output_type": "execute_result",
          "data": {
            "text/html": [
              "<div>\n",
              "<style scoped>\n",
              "    .dataframe tbody tr th:only-of-type {\n",
              "        vertical-align: middle;\n",
              "    }\n",
              "\n",
              "    .dataframe tbody tr th {\n",
              "        vertical-align: top;\n",
              "    }\n",
              "\n",
              "    .dataframe thead th {\n",
              "        text-align: right;\n",
              "    }\n",
              "</style>\n",
              "<table border=\"1\" class=\"dataframe\">\n",
              "  <thead>\n",
              "    <tr style=\"text-align: right;\">\n",
              "      <th></th>\n",
              "      <th>userId</th>\n",
              "      <th>movieId</th>\n",
              "      <th>rating</th>\n",
              "      <th>user</th>\n",
              "      <th>movie</th>\n",
              "    </tr>\n",
              "  </thead>\n",
              "  <tbody>\n",
              "    <tr>\n",
              "      <th>0</th>\n",
              "      <td>1</td>\n",
              "      <td>1</td>\n",
              "      <td>0.777778</td>\n",
              "      <td>0</td>\n",
              "      <td>0</td>\n",
              "    </tr>\n",
              "    <tr>\n",
              "      <th>1</th>\n",
              "      <td>1</td>\n",
              "      <td>3</td>\n",
              "      <td>0.777778</td>\n",
              "      <td>0</td>\n",
              "      <td>1</td>\n",
              "    </tr>\n",
              "    <tr>\n",
              "      <th>2</th>\n",
              "      <td>1</td>\n",
              "      <td>6</td>\n",
              "      <td>0.777778</td>\n",
              "      <td>0</td>\n",
              "      <td>2</td>\n",
              "    </tr>\n",
              "    <tr>\n",
              "      <th>3</th>\n",
              "      <td>1</td>\n",
              "      <td>47</td>\n",
              "      <td>1.000000</td>\n",
              "      <td>0</td>\n",
              "      <td>3</td>\n",
              "    </tr>\n",
              "    <tr>\n",
              "      <th>4</th>\n",
              "      <td>1</td>\n",
              "      <td>50</td>\n",
              "      <td>1.000000</td>\n",
              "      <td>0</td>\n",
              "      <td>4</td>\n",
              "    </tr>\n",
              "    <tr>\n",
              "      <th>...</th>\n",
              "      <td>...</td>\n",
              "      <td>...</td>\n",
              "      <td>...</td>\n",
              "      <td>...</td>\n",
              "      <td>...</td>\n",
              "    </tr>\n",
              "    <tr>\n",
              "      <th>100831</th>\n",
              "      <td>610</td>\n",
              "      <td>166534</td>\n",
              "      <td>0.777778</td>\n",
              "      <td>609</td>\n",
              "      <td>3120</td>\n",
              "    </tr>\n",
              "    <tr>\n",
              "      <th>100832</th>\n",
              "      <td>610</td>\n",
              "      <td>168248</td>\n",
              "      <td>1.000000</td>\n",
              "      <td>609</td>\n",
              "      <td>2035</td>\n",
              "    </tr>\n",
              "    <tr>\n",
              "      <th>100833</th>\n",
              "      <td>610</td>\n",
              "      <td>168250</td>\n",
              "      <td>1.000000</td>\n",
              "      <td>609</td>\n",
              "      <td>3121</td>\n",
              "    </tr>\n",
              "    <tr>\n",
              "      <th>100834</th>\n",
              "      <td>610</td>\n",
              "      <td>168252</td>\n",
              "      <td>1.000000</td>\n",
              "      <td>609</td>\n",
              "      <td>1392</td>\n",
              "    </tr>\n",
              "    <tr>\n",
              "      <th>100835</th>\n",
              "      <td>610</td>\n",
              "      <td>170875</td>\n",
              "      <td>0.555556</td>\n",
              "      <td>609</td>\n",
              "      <td>2873</td>\n",
              "    </tr>\n",
              "  </tbody>\n",
              "</table>\n",
              "<p>100836 rows × 5 columns</p>\n",
              "</div>"
            ],
            "text/plain": [
              "        userId  movieId    rating  user  movie\n",
              "0            1        1  0.777778     0      0\n",
              "1            1        3  0.777778     0      1\n",
              "2            1        6  0.777778     0      2\n",
              "3            1       47  1.000000     0      3\n",
              "4            1       50  1.000000     0      4\n",
              "...        ...      ...       ...   ...    ...\n",
              "100831     610   166534  0.777778   609   3120\n",
              "100832     610   168248  1.000000   609   2035\n",
              "100833     610   168250  1.000000   609   3121\n",
              "100834     610   168252  1.000000   609   1392\n",
              "100835     610   170875  0.555556   609   2873\n",
              "\n",
              "[100836 rows x 5 columns]"
            ]
          },
          "metadata": {},
          "execution_count": 24
        }
      ]
    },
    {
      "cell_type": "code",
      "metadata": {
        "colab": {
          "base_uri": "https://localhost:8080/"
        },
        "id": "vCrfJQX8lk83",
        "outputId": "28d8ceaa-2e11-4be7-9e8d-c0030536ac3e"
      },
      "source": [
        "print(\"Num of users: {}, Num of movie: {}\".format(nUsers, nMovie))\n",
        "print(\"Min rating: {}, Max rating: {}\".format(min(rating_df['rating']), max(rating_df['rating'])))"
      ],
      "execution_count": 25,
      "outputs": [
        {
          "output_type": "stream",
          "name": "stdout",
          "text": [
            "Num of users: 610, Num of movie: 9724\n",
            "Min rating: 0.0, Max rating: 1.0\n"
          ]
        }
      ]
    },
    {
      "cell_type": "markdown",
      "metadata": {
        "id": "F5vWRKEl4dOe"
      },
      "source": [
        "Membagi jumlah data yang akan digunakan untuk proses training dan proses testing."
      ]
    },
    {
      "cell_type": "code",
      "metadata": {
        "id": "7YkumAkewI5j"
      },
      "source": [
        "# Mengacak sampel data\n",
        "rating_df = rating_df.sample(frac=1, random_state=73)\n",
        "\n",
        "X = rating_df[['user', 'movie']].values\n",
        "Y = rating_df[\"rating\"]\n",
        "\n",
        "# Membagi data yang akan digunakan\n",
        "test_size = 200000\n",
        "train_indices = rating_df.shape[0] - test_size \n",
        "X_train, X_test, Y_train, Y_test = (X[:train_indices], X[train_indices:], Y[:train_indices], Y[train_indices:])\n",
        "\n",
        "# Membagi X_train dan X_test untuk melatih model\n",
        "X_train_array = [X_train[:, 0], X_train[:, 1]]\n",
        "X_test_array = [X_test[:, 0], X_test[:, 1]]"
      ],
      "execution_count": 26,
      "outputs": []
    },
    {
      "cell_type": "markdown",
      "metadata": {
        "id": "VU5srymE555K"
      },
      "source": [
        "Pembuatan arsitektur model dengan menggunakan embedding layer."
      ]
    },
    {
      "cell_type": "code",
      "metadata": {
        "id": "jtVQWg-OwoDG"
      },
      "source": [
        "def model_preparation():\n",
        "    user = Input(name = 'user', shape = [1])\n",
        "    user_embedding = Embedding(name = 'user_embedding', input_dim = nUsers, output_dim = 128)(user)\n",
        "\n",
        "    movie = Input(name = 'movie', shape = [1])\n",
        "    movie_embed = Embedding(name = 'movie_embedding', input_dim = nMovie, output_dim = 128)(movie)\n",
        "    \n",
        "    # Model mengguanakn layer Dot yang digunakan untuk komputasi antara embedding dari anime dan dari user.\n",
        "    x = Dot(name = 'dot_product', normalize = True, axes = 2)([user_embedding, movie_embed])\n",
        "    x = Flatten()(x)\n",
        "        \n",
        "    x = Dense(1, kernel_initializer='he_normal')(x)\n",
        "    x = BatchNormalization()(x)\n",
        "    x = Activation(\"sigmoid\")(x)\n",
        "    \n",
        "    model = Model(inputs=[user, movie], outputs=x)\n",
        "    model.compile(\n",
        "        loss='binary_crossentropy', \n",
        "        metrics=[\"mse\", tf.keras.metrics.Precision(), tf.keras.metrics.Recall()],\n",
        "        optimizer='Adam')\n",
        "    \n",
        "    return model"
      ],
      "execution_count": 27,
      "outputs": []
    },
    {
      "cell_type": "code",
      "metadata": {
        "colab": {
          "base_uri": "https://localhost:8080/"
        },
        "id": "WGQA2snAg-V8",
        "outputId": "1efdb166-79a9-496f-ac34-f42d80ad1691"
      },
      "source": [
        "model = model_preparation()\n",
        "model.summary()"
      ],
      "execution_count": 28,
      "outputs": [
        {
          "output_type": "stream",
          "name": "stdout",
          "text": [
            "Model: \"model\"\n",
            "__________________________________________________________________________________________________\n",
            "Layer (type)                    Output Shape         Param #     Connected to                     \n",
            "==================================================================================================\n",
            "user (InputLayer)               [(None, 1)]          0                                            \n",
            "__________________________________________________________________________________________________\n",
            "movie (InputLayer)              [(None, 1)]          0                                            \n",
            "__________________________________________________________________________________________________\n",
            "user_embedding (Embedding)      (None, 1, 128)       78080       user[0][0]                       \n",
            "__________________________________________________________________________________________________\n",
            "movie_embedding (Embedding)     (None, 1, 128)       1244672     movie[0][0]                      \n",
            "__________________________________________________________________________________________________\n",
            "dot_product (Dot)               (None, 1, 1)         0           user_embedding[0][0]             \n",
            "                                                                 movie_embedding[0][0]            \n",
            "__________________________________________________________________________________________________\n",
            "flatten (Flatten)               (None, 1)            0           dot_product[0][0]                \n",
            "__________________________________________________________________________________________________\n",
            "dense (Dense)                   (None, 1)            2           flatten[0][0]                    \n",
            "__________________________________________________________________________________________________\n",
            "batch_normalization (BatchNorma (None, 1)            4           dense[0][0]                      \n",
            "__________________________________________________________________________________________________\n",
            "activation (Activation)         (None, 1)            0           batch_normalization[0][0]        \n",
            "==================================================================================================\n",
            "Total params: 1,322,758\n",
            "Trainable params: 1,322,756\n",
            "Non-trainable params: 2\n",
            "__________________________________________________________________________________________________\n"
          ]
        }
      ]
    },
    {
      "cell_type": "markdown",
      "metadata": {
        "id": "sZA1HGG566Dv"
      },
      "source": [
        "Melakukan training model Embedding"
      ]
    },
    {
      "cell_type": "code",
      "metadata": {
        "id": "N9kD0lxJxx9g"
      },
      "source": [
        "# Menyimpan model terbaik dari proses training model.\n",
        "best_model = ModelCheckpoint(\n",
        "    filepath='./weights.h5', \n",
        "    save_weights_only=True, \n",
        "    monitor='val_loss', \n",
        "    mode='min', \n",
        "    save_best_only=True)\n",
        "\n",
        "# Menghentikan proses training model apabila metrik mse tidak mengalami penurunan.\n",
        "early_stopping = EarlyStopping(patience = 1, monitor='mse', mode='min', restore_best_weights=True)\n",
        "\n",
        "my_callbacks = [\n",
        "    best_model,\n",
        "    early_stopping,   \n",
        "]"
      ],
      "execution_count": 29,
      "outputs": []
    },
    {
      "cell_type": "markdown",
      "metadata": {
        "id": "6VfeVWTA7CLC"
      },
      "source": [
        "Training model"
      ]
    },
    {
      "cell_type": "code",
      "metadata": {
        "colab": {
          "base_uri": "https://localhost:8080/"
        },
        "id": "nlW1hzw1yo6V",
        "outputId": "ec777759-c0a4-4c55-f75c-298d7c214f29"
      },
      "source": [
        "hist = model.fit(\n",
        "    x=X_train_array,\n",
        "    y=Y_train,\n",
        "    validation_data=(X_test_array, Y_test),\n",
        "    epochs=30,\n",
        "    batch_size=64,\n",
        "    verbose=1,\n",
        "    callbacks=my_callbacks,\n",
        ")\n",
        "\n",
        "model.load_weights('./weights.h5')"
      ],
      "execution_count": 30,
      "outputs": [
        {
          "output_type": "stream",
          "name": "stdout",
          "text": [
            "Epoch 1/30\n",
            "27/27 [==============================] - 9s 199ms/step - loss: 0.7955 - mse: 0.1185 - precision: 0.9869 - recall: 0.5018 - val_loss: 0.6953 - val_mse: 0.0826 - val_precision: 0.9865 - val_recall: 0.5478\n",
            "Epoch 2/30\n",
            "27/27 [==============================] - 5s 205ms/step - loss: 0.6238 - mse: 0.0446 - precision: 1.0000 - recall: 0.5266 - val_loss: 0.6929 - val_mse: 0.0814 - val_precision: 0.9866 - val_recall: 0.5795\n",
            "Epoch 3/30\n",
            "27/27 [==============================] - 5s 185ms/step - loss: 0.5873 - mse: 0.0293 - precision: 1.0000 - recall: 0.5545 - val_loss: 0.6921 - val_mse: 0.0811 - val_precision: 0.9866 - val_recall: 0.5926\n",
            "Epoch 4/30\n",
            "27/27 [==============================] - 5s 185ms/step - loss: 0.5719 - mse: 0.0231 - precision: 1.0000 - recall: 0.5738 - val_loss: 0.6922 - val_mse: 0.0811 - val_precision: 0.9867 - val_recall: 0.5964\n",
            "Epoch 5/30\n",
            "27/27 [==============================] - 5s 183ms/step - loss: 0.5647 - mse: 0.0202 - precision: 1.0000 - recall: 0.5902 - val_loss: 0.6924 - val_mse: 0.0812 - val_precision: 0.9867 - val_recall: 0.6014\n",
            "Epoch 6/30\n",
            "27/27 [==============================] - 5s 181ms/step - loss: 0.5623 - mse: 0.0193 - precision: 1.0000 - recall: 0.5962 - val_loss: 0.6929 - val_mse: 0.0814 - val_precision: 0.9867 - val_recall: 0.6029\n",
            "Epoch 7/30\n",
            "27/27 [==============================] - 5s 182ms/step - loss: 0.5579 - mse: 0.0176 - precision: 1.0000 - recall: 0.6047 - val_loss: 0.6925 - val_mse: 0.0812 - val_precision: 0.9867 - val_recall: 0.6111\n",
            "Epoch 8/30\n",
            "27/27 [==============================] - 5s 183ms/step - loss: 0.5548 - mse: 0.0164 - precision: 1.0000 - recall: 0.6102 - val_loss: 0.6927 - val_mse: 0.0813 - val_precision: 0.9866 - val_recall: 0.6145\n",
            "Epoch 9/30\n",
            "27/27 [==============================] - 5s 184ms/step - loss: 0.5518 - mse: 0.0151 - precision: 1.0000 - recall: 0.6211 - val_loss: 0.6918 - val_mse: 0.0808 - val_precision: 0.9867 - val_recall: 0.6255\n",
            "Epoch 10/30\n",
            "27/27 [==============================] - 5s 181ms/step - loss: 0.5493 - mse: 0.0142 - precision: 1.0000 - recall: 0.6289 - val_loss: 0.6904 - val_mse: 0.0801 - val_precision: 0.9867 - val_recall: 0.6393\n",
            "Epoch 11/30\n",
            "27/27 [==============================] - 5s 180ms/step - loss: 0.5463 - mse: 0.0130 - precision: 1.0000 - recall: 0.6283 - val_loss: 0.6901 - val_mse: 0.0799 - val_precision: 0.9866 - val_recall: 0.6439\n",
            "Epoch 12/30\n",
            "27/27 [==============================] - 5s 182ms/step - loss: 0.5455 - mse: 0.0128 - precision: 1.0000 - recall: 0.6531 - val_loss: 0.6896 - val_mse: 0.0797 - val_precision: 0.9866 - val_recall: 0.6492\n",
            "Epoch 13/30\n",
            "27/27 [==============================] - 5s 181ms/step - loss: 0.5443 - mse: 0.0123 - precision: 1.0000 - recall: 0.6604 - val_loss: 0.6884 - val_mse: 0.0791 - val_precision: 0.9866 - val_recall: 0.6592\n",
            "Epoch 14/30\n",
            "27/27 [==============================] - 5s 188ms/step - loss: 0.5402 - mse: 0.0108 - precision: 1.0000 - recall: 0.6471 - val_loss: 0.6868 - val_mse: 0.0783 - val_precision: 0.9865 - val_recall: 0.6702\n",
            "Epoch 15/30\n",
            "27/27 [==============================] - 5s 180ms/step - loss: 0.5392 - mse: 0.0104 - precision: 1.0000 - recall: 0.6719 - val_loss: 0.6839 - val_mse: 0.0769 - val_precision: 0.9866 - val_recall: 0.6923\n",
            "Epoch 16/30\n",
            "27/27 [==============================] - 5s 183ms/step - loss: 0.5365 - mse: 0.0094 - precision: 1.0000 - recall: 0.6707 - val_loss: 0.6821 - val_mse: 0.0760 - val_precision: 0.9866 - val_recall: 0.7055\n",
            "Epoch 17/30\n",
            "27/27 [==============================] - 5s 184ms/step - loss: 0.5336 - mse: 0.0083 - precision: 1.0000 - recall: 0.6755 - val_loss: 0.6802 - val_mse: 0.0751 - val_precision: 0.9866 - val_recall: 0.7196\n",
            "Epoch 18/30\n",
            "27/27 [==============================] - 5s 185ms/step - loss: 0.5330 - mse: 0.0081 - precision: 1.0000 - recall: 0.6877 - val_loss: 0.6780 - val_mse: 0.0740 - val_precision: 0.9866 - val_recall: 0.7371\n",
            "Epoch 19/30\n",
            "27/27 [==============================] - 5s 182ms/step - loss: 0.5315 - mse: 0.0078 - precision: 1.0000 - recall: 0.6943 - val_loss: 0.6764 - val_mse: 0.0732 - val_precision: 0.9867 - val_recall: 0.7495\n",
            "Epoch 20/30\n",
            "27/27 [==============================] - 5s 186ms/step - loss: 0.5312 - mse: 0.0077 - precision: 1.0000 - recall: 0.7034 - val_loss: 0.6751 - val_mse: 0.0726 - val_precision: 0.9866 - val_recall: 0.7588\n",
            "Epoch 21/30\n",
            "27/27 [==============================] - 5s 187ms/step - loss: 0.5291 - mse: 0.0068 - precision: 1.0000 - recall: 0.6961 - val_loss: 0.6734 - val_mse: 0.0717 - val_precision: 0.9866 - val_recall: 0.7718\n",
            "Epoch 22/30\n",
            "27/27 [==============================] - 5s 185ms/step - loss: 0.5264 - mse: 0.0059 - precision: 1.0000 - recall: 0.7131 - val_loss: 0.6717 - val_mse: 0.0709 - val_precision: 0.9866 - val_recall: 0.7857\n",
            "Epoch 23/30\n",
            "27/27 [==============================] - 5s 183ms/step - loss: 0.5269 - mse: 0.0062 - precision: 1.0000 - recall: 0.6998 - val_loss: 0.6704 - val_mse: 0.0702 - val_precision: 0.9866 - val_recall: 0.7961\n"
          ]
        }
      ]
    },
    {
      "cell_type": "markdown",
      "metadata": {
        "id": "tFRoUZeb7Mrz"
      },
      "source": [
        "# **Membuat Plot**"
      ]
    },
    {
      "cell_type": "markdown",
      "metadata": {
        "id": "wGLMLFgA7hvG"
      },
      "source": [
        "Menampilkan plot loss"
      ]
    },
    {
      "cell_type": "code",
      "metadata": {
        "colab": {
          "base_uri": "https://localhost:8080/",
          "height": 279
        },
        "id": "Dvfcu-YvzDot",
        "outputId": "426f34ba-d507-4eb0-ad33-7e2c06fb661e"
      },
      "source": [
        "# Membuat plot loss\n",
        "plt.plot(hist.history['loss'])\n",
        "plt.plot(hist.history['val_loss'])\n",
        "plt.ylabel('Loss')\n",
        "plt.xlabel('Epoch')\n",
        "plt.legend(['Loss Train', 'Loss Test'], loc='upper right')\n",
        "plt.show()"
      ],
      "execution_count": 31,
      "outputs": [
        {
          "output_type": "display_data",
          "data": {
            "image/png": "[encoded data removed]",
            "text/plain": [
              "<Figure size 432x288 with 1 Axes>"
            ]
          },
          "metadata": {
            "needs_background": "light"
          }
        }
      ]
    },
    {
      "cell_type": "markdown",
      "metadata": {
        "id": "1OntdE2o7i4Z"
      },
      "source": [
        "Menampilkan plot mse"
      ]
    },
    {
      "cell_type": "code",
      "metadata": {
        "colab": {
          "base_uri": "https://localhost:8080/",
          "height": 279
        },
        "id": "sqiInm5BzGIx",
        "outputId": "6d3ba27f-388b-48da-9af4-0d1d5e03eba1"
      },
      "source": [
        "# Membuat plot mse\n",
        "plt.plot(hist.history['mse'])\n",
        "plt.plot(hist.history['val_mse'])\n",
        "plt.ylabel('MSE')\n",
        "plt.xlabel('Epoch')\n",
        "plt.legend(['MSE Train', 'MSE Test'], loc='upper right')\n",
        "plt.show()"
      ],
      "execution_count": 32,
      "outputs": [
        {
          "output_type": "display_data",
          "data": {
            "image/png": "[encoded data removed]",
            "text/plain": [
              "<Figure size 432x288 with 1 Axes>"
            ]
          },
          "metadata": {
            "needs_background": "light"
          }
        }
      ]
    },
    {
      "cell_type": "markdown",
      "metadata": {
        "id": "d3DKRmdf7kzm"
      },
      "source": [
        "Menampilkan plot recall"
      ]
    },
    {
      "cell_type": "code",
      "metadata": {
        "colab": {
          "base_uri": "https://localhost:8080/",
          "height": 279
        },
        "id": "jTpSNXyTzUM-",
        "outputId": "7a192860-ddb3-4626-e308-ae057ec0fe5d"
      },
      "source": [
        "# Membuat plot recall\n",
        "plt.plot(hist.history['recall'])\n",
        "plt.plot(hist.history['val_recall'])\n",
        "plt.ylabel('Recall')\n",
        "plt.xlabel('Epoch')\n",
        "plt.legend(['Recall Train', 'Recall Test'], loc='upper right')\n",
        "plt.show()"
      ],
      "execution_count": 33,
      "outputs": [
        {
          "output_type": "display_data",
          "data": {
            "image/png": "[encoded data removed]",
            "text/plain": [
              "<Figure size 432x288 with 1 Axes>"
            ]
          },
          "metadata": {
            "needs_background": "light"
          }
        }
      ]
    },
    {
      "cell_type": "markdown",
      "metadata": {
        "id": "hYpMHG367mlB"
      },
      "source": [
        "Menampilkan plot precision"
      ]
    },
    {
      "cell_type": "code",
      "metadata": {
        "colab": {
          "base_uri": "https://localhost:8080/",
          "height": 279
        },
        "id": "rbgdy_oVzH8g",
        "outputId": "d2b05b49-f29a-4546-eb1f-988d687ee246"
      },
      "source": [
        "# Membuat plot precision\n",
        "plt.plot(hist.history['precision'])\n",
        "plt.plot(hist.history['val_precision'])\n",
        "plt.ylabel('Precision')\n",
        "plt.xlabel('Epoch')\n",
        "plt.legend(['Precision Train', 'Precision Test'], loc='upper right')\n",
        "plt.show()"
      ],
      "execution_count": 34,
      "outputs": [
        {
          "output_type": "display_data",
          "data": {
            "image/png": "[encoded data removed]",
            "text/plain": [
              "<Figure size 432x288 with 1 Axes>"
            ]
          },
          "metadata": {
            "needs_background": "light"
          }
        }
      ]
    },
    {
      "cell_type": "markdown",
      "metadata": {
        "id": "rDHU4dpM8LfC"
      },
      "source": [
        "# **Load model**"
      ]
    },
    {
      "cell_type": "markdown",
      "metadata": {
        "id": "oaP_-2qU8Wp_"
      },
      "source": [
        "Melakukan load kembali weight model yang sebelumnya telah disimpan"
      ]
    },
    {
      "cell_type": "code",
      "metadata": {
        "id": "JKE9tqOtzdOH"
      },
      "source": [
        "def load_weight(name, model):\n",
        "    weights = model.get_layer(name).get_weights()[0]\n",
        "    weights = weights / np.linalg.norm(weights, axis = 1).reshape((-1, 1))\n",
        "    return weights"
      ],
      "execution_count": 35,
      "outputs": []
    },
    {
      "cell_type": "code",
      "metadata": {
        "id": "7lqTNXdLt80B"
      },
      "source": [
        "movie_weights = load_weight('movie_embedding', model)\n",
        "user_weights = load_weight('user_embedding', model)"
      ],
      "execution_count": 36,
      "outputs": []
    },
    {
      "cell_type": "markdown",
      "metadata": {
        "id": "HZZ7B-Oq8ozT"
      },
      "source": [
        "Mencari MovieId berdasarkan judul"
      ]
    },
    {
      "cell_type": "code",
      "metadata": {
        "id": "29ndJN-18XqG"
      },
      "source": [
        "def movie_data(movie):\n",
        "    if isinstance(movie, int):\n",
        "        return movie_df[movie_df.movieId == movie]\n",
        "    if isinstance(anime, str):\n",
        "        return movie_df[movie_df.title == movie]"
      ],
      "execution_count": 37,
      "outputs": []
    },
    {
      "cell_type": "markdown",
      "metadata": {
        "id": "XMlKOvqk9IGR"
      },
      "source": [
        "# **Collaborative Filtering.**"
      ]
    },
    {
      "cell_type": "markdown",
      "metadata": {
        "id": "spbmomRzuJ9c"
      },
      "source": [
        "Generate random user"
      ]
    },
    {
      "cell_type": "code",
      "metadata": {
        "colab": {
          "base_uri": "https://localhost:8080/",
          "height": 810
        },
        "id": "NYYs984U9MgL",
        "outputId": "ee85f27c-39f0-4b6a-a1a0-0ae5680c34ed"
      },
      "source": [
        "rating_by_user = rating_df.groupby('userId').size()\n",
        "random_user = rating_by_user[rating_by_user < 1000].sample(1, random_state=None).index[0]\n",
        "# Memasukkan id user secara random\n",
        "print('User ID:', random_user)\n",
        "top_movie_user = new_movie_df.groupby('userId').get_group(random_user)\n",
        "top_movie_user[['rating', 'title', 'genres']].sort_values(\n",
        "    by = 'rating',\n",
        "    ascending=False\n",
        ")"
      ],
      "execution_count": 48,
      "outputs": [
        {
          "output_type": "stream",
          "name": "stdout",
          "text": [
            "User ID: 180.0\n"
          ]
        },
        {
          "output_type": "execute_result",
          "data": {
            "text/html": [
              "<div>\n",
              "<style scoped>\n",
              "    .dataframe tbody tr th:only-of-type {\n",
              "        vertical-align: middle;\n",
              "    }\n",
              "\n",
              "    .dataframe tbody tr th {\n",
              "        vertical-align: top;\n",
              "    }\n",
              "\n",
              "    .dataframe thead th {\n",
              "        text-align: right;\n",
              "    }\n",
              "</style>\n",
              "<table border=\"1\" class=\"dataframe\">\n",
              "  <thead>\n",
              "    <tr style=\"text-align: right;\">\n",
              "      <th></th>\n",
              "      <th>rating</th>\n",
              "      <th>title</th>\n",
              "      <th>genres</th>\n",
              "    </tr>\n",
              "  </thead>\n",
              "  <tbody>\n",
              "    <tr>\n",
              "      <th>1641</th>\n",
              "      <td>4.5</td>\n",
              "      <td>Star Wars: Episode IV - A New Hope (1977)</td>\n",
              "      <td>Action|Adventure|Sci-Fi</td>\n",
              "    </tr>\n",
              "    <tr>\n",
              "      <th>35983</th>\n",
              "      <td>4.5</td>\n",
              "      <td>Lord of the Rings: The Fellowship of the Ring,...</td>\n",
              "      <td>Adventure|Fantasy</td>\n",
              "    </tr>\n",
              "    <tr>\n",
              "      <th>7788</th>\n",
              "      <td>4.5</td>\n",
              "      <td>Goodfellas (1990)</td>\n",
              "      <td>Crime|Drama</td>\n",
              "    </tr>\n",
              "    <tr>\n",
              "      <th>14375</th>\n",
              "      <td>4.5</td>\n",
              "      <td>Fight Club (1999)</td>\n",
              "      <td>Action|Crime|Drama|Thriller</td>\n",
              "    </tr>\n",
              "    <tr>\n",
              "      <th>13703</th>\n",
              "      <td>4.0</td>\n",
              "      <td>Iron Giant, The (1999)</td>\n",
              "      <td>Adventure|Animation|Children|Drama|Sci-Fi</td>\n",
              "    </tr>\n",
              "    <tr>\n",
              "      <th>76913</th>\n",
              "      <td>4.0</td>\n",
              "      <td>Caddyshack (1980)</td>\n",
              "      <td>Comedy</td>\n",
              "    </tr>\n",
              "    <tr>\n",
              "      <th>49278</th>\n",
              "      <td>4.0</td>\n",
              "      <td>Evil Dead II (Dead by Dawn) (1987)</td>\n",
              "      <td>Action|Comedy|Fantasy|Horror</td>\n",
              "    </tr>\n",
              "    <tr>\n",
              "      <th>6678</th>\n",
              "      <td>4.0</td>\n",
              "      <td>Monty Python and the Holy Grail (1975)</td>\n",
              "      <td>Adventure|Comedy|Fantasy</td>\n",
              "    </tr>\n",
              "    <tr>\n",
              "      <th>34756</th>\n",
              "      <td>4.0</td>\n",
              "      <td>Ghostbusters II (1989)</td>\n",
              "      <td>Comedy|Fantasy|Sci-Fi</td>\n",
              "    </tr>\n",
              "    <tr>\n",
              "      <th>7189</th>\n",
              "      <td>4.0</td>\n",
              "      <td>Raiders of the Lost Ark (Indiana Jones and the...</td>\n",
              "      <td>Action|Adventure</td>\n",
              "    </tr>\n",
              "    <tr>\n",
              "      <th>7026</th>\n",
              "      <td>4.0</td>\n",
              "      <td>Princess Bride, The (1987)</td>\n",
              "      <td>Action|Adventure|Comedy|Fantasy|Romance</td>\n",
              "    </tr>\n",
              "    <tr>\n",
              "      <th>6838</th>\n",
              "      <td>4.0</td>\n",
              "      <td>Star Wars: Episode V - The Empire Strikes Back...</td>\n",
              "      <td>Action|Adventure|Sci-Fi</td>\n",
              "    </tr>\n",
              "    <tr>\n",
              "      <th>13293</th>\n",
              "      <td>3.5</td>\n",
              "      <td>Superman II (1980)</td>\n",
              "      <td>Action|Sci-Fi</td>\n",
              "    </tr>\n",
              "    <tr>\n",
              "      <th>12717</th>\n",
              "      <td>3.5</td>\n",
              "      <td>Matrix, The (1999)</td>\n",
              "      <td>Action|Sci-Fi|Thriller</td>\n",
              "    </tr>\n",
              "    <tr>\n",
              "      <th>60225</th>\n",
              "      <td>3.5</td>\n",
              "      <td>Dark City (1998)</td>\n",
              "      <td>Adventure|Film-Noir|Sci-Fi|Thriller</td>\n",
              "    </tr>\n",
              "    <tr>\n",
              "      <th>71667</th>\n",
              "      <td>3.5</td>\n",
              "      <td>Dune (1984)</td>\n",
              "      <td>Adventure|Sci-Fi</td>\n",
              "    </tr>\n",
              "    <tr>\n",
              "      <th>74076</th>\n",
              "      <td>3.5</td>\n",
              "      <td>Glory (1989)</td>\n",
              "      <td>Drama|War</td>\n",
              "    </tr>\n",
              "    <tr>\n",
              "      <th>18669</th>\n",
              "      <td>3.0</td>\n",
              "      <td>Fast Times at Ridgemont High (1982)</td>\n",
              "      <td>Comedy|Drama|Romance</td>\n",
              "    </tr>\n",
              "    <tr>\n",
              "      <th>30702</th>\n",
              "      <td>3.0</td>\n",
              "      <td>Specialist, The (1994)</td>\n",
              "      <td>Action|Drama|Thriller</td>\n",
              "    </tr>\n",
              "    <tr>\n",
              "      <th>49538</th>\n",
              "      <td>3.0</td>\n",
              "      <td>Mystery Men (1999)</td>\n",
              "      <td>Action|Comedy|Fantasy</td>\n",
              "    </tr>\n",
              "    <tr>\n",
              "      <th>64802</th>\n",
              "      <td>3.0</td>\n",
              "      <td>Perfect Storm, The (2000)</td>\n",
              "      <td>Drama|Thriller</td>\n",
              "    </tr>\n",
              "    <tr>\n",
              "      <th>87136</th>\n",
              "      <td>2.5</td>\n",
              "      <td>American Werewolf in London, An (1981)</td>\n",
              "      <td>Comedy|Horror|Thriller</td>\n",
              "    </tr>\n",
              "    <tr>\n",
              "      <th>58228</th>\n",
              "      <td>2.0</td>\n",
              "      <td>Kingpin (1996)</td>\n",
              "      <td>Comedy</td>\n",
              "    </tr>\n",
              "    <tr>\n",
              "      <th>60972</th>\n",
              "      <td>1.5</td>\n",
              "      <td>Dark Crystal, The (1982)</td>\n",
              "      <td>Adventure|Fantasy</td>\n",
              "    </tr>\n",
              "  </tbody>\n",
              "</table>\n",
              "</div>"
            ],
            "text/plain": [
              "       rating  ...                                     genres\n",
              "1641      4.5  ...                    Action|Adventure|Sci-Fi\n",
              "35983     4.5  ...                          Adventure|Fantasy\n",
              "7788      4.5  ...                                Crime|Drama\n",
              "14375     4.5  ...                Action|Crime|Drama|Thriller\n",
              "13703     4.0  ...  Adventure|Animation|Children|Drama|Sci-Fi\n",
              "76913     4.0  ...                                     Comedy\n",
              "49278     4.0  ...               Action|Comedy|Fantasy|Horror\n",
              "6678      4.0  ...                   Adventure|Comedy|Fantasy\n",
              "34756     4.0  ...                      Comedy|Fantasy|Sci-Fi\n",
              "7189      4.0  ...                           Action|Adventure\n",
              "7026      4.0  ...    Action|Adventure|Comedy|Fantasy|Romance\n",
              "6838      4.0  ...                    Action|Adventure|Sci-Fi\n",
              "13293     3.5  ...                              Action|Sci-Fi\n",
              "12717     3.5  ...                     Action|Sci-Fi|Thriller\n",
              "60225     3.5  ...        Adventure|Film-Noir|Sci-Fi|Thriller\n",
              "71667     3.5  ...                           Adventure|Sci-Fi\n",
              "74076     3.5  ...                                  Drama|War\n",
              "18669     3.0  ...                       Comedy|Drama|Romance\n",
              "30702     3.0  ...                      Action|Drama|Thriller\n",
              "49538     3.0  ...                      Action|Comedy|Fantasy\n",
              "64802     3.0  ...                             Drama|Thriller\n",
              "87136     2.5  ...                     Comedy|Horror|Thriller\n",
              "58228     2.0  ...                                     Comedy\n",
              "60972     1.5  ...                          Adventure|Fantasy\n",
              "\n",
              "[24 rows x 3 columns]"
            ]
          },
          "metadata": {},
          "execution_count": 48
        }
      ]
    },
    {
      "cell_type": "markdown",
      "metadata": {
        "id": "dbbetaB89eFD"
      },
      "source": [
        "Mencari tingkat kemiripan user."
      ]
    },
    {
      "cell_type": "code",
      "metadata": {
        "id": "Vo_4o4E3Qsfi"
      },
      "source": [
        "def get_similar_users(tempId, n=10):\n",
        "      index = tempId\n",
        "      weights = user_weights\n",
        "      dists = np.dot(weights, weights[encodedUser.get(index)])\n",
        "      sortedDists = np.argsort(dists)\n",
        "      n += 1\n",
        "      closest = sortedDists[-n:]\n",
        "      print('User that similar to user #{}'.format(tempId))\n",
        "      \n",
        "      SimilarArr = []\n",
        "      \n",
        "      for close in closest:\n",
        "          similarity = dists[closest]\n",
        "\n",
        "          if isinstance(tempId, int):\n",
        "              SimilarArr.append({\"similar_users\": encodeusertouser.get(close), \"similarity\": similarity})\n",
        "\n",
        "      Frame = pd.DataFrame(SimilarArr)\n",
        "      return Frame"
      ],
      "execution_count": 49,
      "outputs": []
    },
    {
      "cell_type": "markdown",
      "metadata": {
        "id": "YhvJbKPf9pXB"
      },
      "source": [
        "Emcari pengguna yang serupa."
      ]
    },
    {
      "cell_type": "code",
      "metadata": {
        "colab": {
          "base_uri": "https://localhost:8080/",
          "height": 376
        },
        "id": "vfS8yIkSTZPG",
        "outputId": "a299ee0c-3c28-4b7c-ef92-5afb39e77059"
      },
      "source": [
        "similar_users = get_similar_users(int(random_user), n=10)\n",
        "similar_users = similar_users[similar_users.similar_users != random_user]\n",
        "similar_users"
      ],
      "execution_count": 50,
      "outputs": [
        {
          "output_type": "stream",
          "name": "stdout",
          "text": [
            "User that similar to user #180\n"
          ]
        },
        {
          "output_type": "execute_result",
          "data": {
            "text/html": [
              "<div>\n",
              "<style scoped>\n",
              "    .dataframe tbody tr th:only-of-type {\n",
              "        vertical-align: middle;\n",
              "    }\n",
              "\n",
              "    .dataframe tbody tr th {\n",
              "        vertical-align: top;\n",
              "    }\n",
              "\n",
              "    .dataframe thead th {\n",
              "        text-align: right;\n",
              "    }\n",
              "</style>\n",
              "<table border=\"1\" class=\"dataframe\">\n",
              "  <thead>\n",
              "    <tr style=\"text-align: right;\">\n",
              "      <th></th>\n",
              "      <th>similar_users</th>\n",
              "      <th>similarity</th>\n",
              "    </tr>\n",
              "  </thead>\n",
              "  <tbody>\n",
              "    <tr>\n",
              "      <th>0</th>\n",
              "      <td>425</td>\n",
              "      <td>[0.19778544, 0.1996317, 0.20696491, 0.21076524...</td>\n",
              "    </tr>\n",
              "    <tr>\n",
              "      <th>1</th>\n",
              "      <td>40</td>\n",
              "      <td>[0.19778544, 0.1996317, 0.20696491, 0.21076524...</td>\n",
              "    </tr>\n",
              "    <tr>\n",
              "      <th>2</th>\n",
              "      <td>137</td>\n",
              "      <td>[0.19778544, 0.1996317, 0.20696491, 0.21076524...</td>\n",
              "    </tr>\n",
              "    <tr>\n",
              "      <th>3</th>\n",
              "      <td>2</td>\n",
              "      <td>[0.19778544, 0.1996317, 0.20696491, 0.21076524...</td>\n",
              "    </tr>\n",
              "    <tr>\n",
              "      <th>4</th>\n",
              "      <td>507</td>\n",
              "      <td>[0.19778544, 0.1996317, 0.20696491, 0.21076524...</td>\n",
              "    </tr>\n",
              "    <tr>\n",
              "      <th>5</th>\n",
              "      <td>157</td>\n",
              "      <td>[0.19778544, 0.1996317, 0.20696491, 0.21076524...</td>\n",
              "    </tr>\n",
              "    <tr>\n",
              "      <th>6</th>\n",
              "      <td>275</td>\n",
              "      <td>[0.19778544, 0.1996317, 0.20696491, 0.21076524...</td>\n",
              "    </tr>\n",
              "    <tr>\n",
              "      <th>7</th>\n",
              "      <td>538</td>\n",
              "      <td>[0.19778544, 0.1996317, 0.20696491, 0.21076524...</td>\n",
              "    </tr>\n",
              "    <tr>\n",
              "      <th>8</th>\n",
              "      <td>243</td>\n",
              "      <td>[0.19778544, 0.1996317, 0.20696491, 0.21076524...</td>\n",
              "    </tr>\n",
              "    <tr>\n",
              "      <th>9</th>\n",
              "      <td>149</td>\n",
              "      <td>[0.19778544, 0.1996317, 0.20696491, 0.21076524...</td>\n",
              "    </tr>\n",
              "  </tbody>\n",
              "</table>\n",
              "</div>"
            ],
            "text/plain": [
              "   similar_users                                         similarity\n",
              "0            425  [0.19778544, 0.1996317, 0.20696491, 0.21076524...\n",
              "1             40  [0.19778544, 0.1996317, 0.20696491, 0.21076524...\n",
              "2            137  [0.19778544, 0.1996317, 0.20696491, 0.21076524...\n",
              "3              2  [0.19778544, 0.1996317, 0.20696491, 0.21076524...\n",
              "4            507  [0.19778544, 0.1996317, 0.20696491, 0.21076524...\n",
              "5            157  [0.19778544, 0.1996317, 0.20696491, 0.21076524...\n",
              "6            275  [0.19778544, 0.1996317, 0.20696491, 0.21076524...\n",
              "7            538  [0.19778544, 0.1996317, 0.20696491, 0.21076524...\n",
              "8            243  [0.19778544, 0.1996317, 0.20696491, 0.21076524...\n",
              "9            149  [0.19778544, 0.1996317, 0.20696491, 0.21076524..."
            ]
          },
          "metadata": {},
          "execution_count": 50
        }
      ]
    },
    {
      "cell_type": "markdown",
      "metadata": {
        "id": "BG4jKzSN93SL"
      },
      "source": [
        "Menampilkan list rekomendasi movie berdasarkan aktivitas tontonan movie pengguna."
      ]
    },
    {
      "cell_type": "code",
      "metadata": {
        "id": "z7wL90MxZjjj"
      },
      "source": [
        "def get_user_movie_preference(userId, plot=False, temp=1):\n",
        "  # Menentukan batas rating terendah movie\n",
        "  lowest_rating = np.percentile(rating_df[rating_df.userId==userId].rating, 75)\n",
        "  rating_df[rating_df.userId==userId] = rating_df[rating_df.userId==userId][rating_df[rating_df.userId==userId].rating >= lowest_rating]\n",
        "  top_movie_refference = (\n",
        "      rating_df[rating_df.userId==userId].sort_values(by=\"rating\", ascending=False)\n",
        "      .movieId.values\n",
        "  )\n",
        "  \n",
        "  user_pref_df = movie_df[movie_df[\"movieId\"].isin(top_movie_refference)]\n",
        "  user_pref_df = user_pref_df[[\"movieId\",\"title\", \"genres\"]]\n",
        "  \n",
        "  if temp != 0:\n",
        "      print(\"User #{} Already Rated {} movies with average rating = {:.1f}/5.0\".format(\n",
        "        userId, len(rating_df[rating_df.userId==userId]),\n",
        "        rating_df[rating_df.userId==userId]['rating'].mean()*5,\n",
        "      ))\n",
        "      print('Recommended movie genre for user:')\n",
        "\n",
        "  return user_pref_df"
      ],
      "execution_count": 51,
      "outputs": []
    },
    {
      "cell_type": "markdown",
      "metadata": {
        "id": "4FimbNFh-I2x"
      },
      "source": [
        "Menampilkan 10 rekomendasi movie untuk pengguna."
      ]
    },
    {
      "cell_type": "code",
      "metadata": {
        "colab": {
          "base_uri": "https://localhost:8080/",
          "height": 393
        },
        "id": "CePQGIHNbejV",
        "outputId": "42a86af8-5655-4a80-acfc-f9d7b428c874"
      },
      "source": [
        "reff_user = get_user_movie_preference(random_user, plot=True)\n",
        "reff_user=pd.DataFrame(reff_user)\n",
        "reff_user.head(10)"
      ],
      "execution_count": 52,
      "outputs": [
        {
          "output_type": "stream",
          "name": "stdout",
          "text": [
            "User #180.0 Already Rated 12 movies with average rating = 4.1/5.0\n",
            "Recommended movie genre for user:\n"
          ]
        },
        {
          "output_type": "execute_result",
          "data": {
            "text/html": [
              "<div>\n",
              "<style scoped>\n",
              "    .dataframe tbody tr th:only-of-type {\n",
              "        vertical-align: middle;\n",
              "    }\n",
              "\n",
              "    .dataframe tbody tr th {\n",
              "        vertical-align: top;\n",
              "    }\n",
              "\n",
              "    .dataframe thead th {\n",
              "        text-align: right;\n",
              "    }\n",
              "</style>\n",
              "<table border=\"1\" class=\"dataframe\">\n",
              "  <thead>\n",
              "    <tr style=\"text-align: right;\">\n",
              "      <th></th>\n",
              "      <th>movieId</th>\n",
              "      <th>title</th>\n",
              "      <th>genres</th>\n",
              "    </tr>\n",
              "  </thead>\n",
              "  <tbody>\n",
              "    <tr>\n",
              "      <th>224</th>\n",
              "      <td>260</td>\n",
              "      <td>Star Wars: Episode IV - A New Hope (1977)</td>\n",
              "      <td>Action|Adventure|Sci-Fi</td>\n",
              "    </tr>\n",
              "    <tr>\n",
              "      <th>863</th>\n",
              "      <td>1136</td>\n",
              "      <td>Monty Python and the Holy Grail (1975)</td>\n",
              "      <td>Adventure|Comedy|Fantasy</td>\n",
              "    </tr>\n",
              "    <tr>\n",
              "      <th>898</th>\n",
              "      <td>1196</td>\n",
              "      <td>Star Wars: Episode V - The Empire Strikes Back...</td>\n",
              "      <td>Action|Adventure|Sci-Fi</td>\n",
              "    </tr>\n",
              "    <tr>\n",
              "      <th>899</th>\n",
              "      <td>1197</td>\n",
              "      <td>Princess Bride, The (1987)</td>\n",
              "      <td>Action|Adventure|Comedy|Fantasy|Romance</td>\n",
              "    </tr>\n",
              "    <tr>\n",
              "      <th>900</th>\n",
              "      <td>1198</td>\n",
              "      <td>Raiders of the Lost Ark (Indiana Jones and the...</td>\n",
              "      <td>Action|Adventure</td>\n",
              "    </tr>\n",
              "    <tr>\n",
              "      <th>914</th>\n",
              "      <td>1213</td>\n",
              "      <td>Goodfellas (1990)</td>\n",
              "      <td>Crime|Drama</td>\n",
              "    </tr>\n",
              "    <tr>\n",
              "      <th>960</th>\n",
              "      <td>1261</td>\n",
              "      <td>Evil Dead II (Dead by Dawn) (1987)</td>\n",
              "      <td>Action|Comedy|Fantasy|Horror</td>\n",
              "    </tr>\n",
              "    <tr>\n",
              "      <th>2039</th>\n",
              "      <td>2717</td>\n",
              "      <td>Ghostbusters II (1989)</td>\n",
              "      <td>Comedy|Fantasy|Sci-Fi</td>\n",
              "    </tr>\n",
              "    <tr>\n",
              "      <th>2077</th>\n",
              "      <td>2761</td>\n",
              "      <td>Iron Giant, The (1999)</td>\n",
              "      <td>Adventure|Animation|Children|Drama|Sci-Fi</td>\n",
              "    </tr>\n",
              "    <tr>\n",
              "      <th>2226</th>\n",
              "      <td>2959</td>\n",
              "      <td>Fight Club (1999)</td>\n",
              "      <td>Action|Crime|Drama|Thriller</td>\n",
              "    </tr>\n",
              "  </tbody>\n",
              "</table>\n",
              "</div>"
            ],
            "text/plain": [
              "      movieId  ...                                     genres\n",
              "224       260  ...                    Action|Adventure|Sci-Fi\n",
              "863      1136  ...                   Adventure|Comedy|Fantasy\n",
              "898      1196  ...                    Action|Adventure|Sci-Fi\n",
              "899      1197  ...    Action|Adventure|Comedy|Fantasy|Romance\n",
              "900      1198  ...                           Action|Adventure\n",
              "914      1213  ...                                Crime|Drama\n",
              "960      1261  ...               Action|Comedy|Fantasy|Horror\n",
              "2039     2717  ...                      Comedy|Fantasy|Sci-Fi\n",
              "2077     2761  ...  Adventure|Animation|Children|Drama|Sci-Fi\n",
              "2226     2959  ...                Action|Crime|Drama|Thriller\n",
              "\n",
              "[10 rows x 3 columns]"
            ]
          },
          "metadata": {},
          "execution_count": 52
        }
      ]
    }
  ]
}